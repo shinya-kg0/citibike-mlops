{
 "cells": [
  {
   "cell_type": "code",
   "execution_count": 1,
   "id": "6a3657b0",
   "metadata": {},
   "outputs": [
    {
     "name": "stdout",
     "output_type": "stream",
     "text": [
      "http://host.docker.internal:5050\n"
     ]
    }
   ],
   "source": [
    "import mlflow\n",
    "\n",
    "print(mlflow.get_tracking_uri())\n"
   ]
  },
  {
   "cell_type": "code",
   "execution_count": 2,
   "id": "a6090752",
   "metadata": {},
   "outputs": [
    {
     "name": "stderr",
     "output_type": "stream",
     "text": [
      "2025/10/18 07:25:07 INFO mlflow.tracking.fluent: Experiment with name 'hello_citibike' does not exist. Creating a new experiment.\n"
     ]
    },
    {
     "name": "stdout",
     "output_type": "stream",
     "text": [
      "🏃 View run smoke at: http://host.docker.internal:5050/#/experiments/1/runs/a5d68a7fa87f4151bd202bfc03453d63\n",
      "🧪 View experiment at: http://host.docker.internal:5050/#/experiments/1\n",
      "logged.\n"
     ]
    }
   ],
   "source": [
    "import mlflow\n",
    "mlflow.set_experiment(\"hello_citibike\")\n",
    "with mlflow.start_run(run_name=\"smoke\"):\n",
    "    mlflow.log_param(\"hello\", \"world\")\n",
    "    mlflow.log_metric(\"accuracy\", 0.9)\n",
    "print(\"logged.\")"
   ]
  },
  {
   "cell_type": "code",
   "execution_count": 1,
   "id": "61d4d469",
   "metadata": {},
   "outputs": [],
   "source": [
    "a = 1\n"
   ]
  },
  {
   "cell_type": "code",
   "execution_count": 2,
   "id": "f0c224f1",
   "metadata": {},
   "outputs": [
    {
     "name": "stdout",
     "output_type": "stream",
     "text": [
      "1\n"
     ]
    }
   ],
   "source": [
    "print(a)"
   ]
  },
  {
   "cell_type": "code",
   "execution_count": null,
   "id": "d2c2294a",
   "metadata": {},
   "outputs": [],
   "source": []
  }
 ],
 "metadata": {
  "kernelspec": {
   "display_name": "Python 3",
   "language": "python",
   "name": "python3"
  },
  "language_info": {
   "codemirror_mode": {
    "name": "ipython",
    "version": 3
   },
   "file_extension": ".py",
   "mimetype": "text/x-python",
   "name": "python",
   "nbconvert_exporter": "python",
   "pygments_lexer": "ipython3",
   "version": "3.11.14"
  }
 },
 "nbformat": 4,
 "nbformat_minor": 5
}
