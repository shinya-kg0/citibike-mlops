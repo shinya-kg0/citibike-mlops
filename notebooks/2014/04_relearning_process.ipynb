{
 "cells": [
  {
   "cell_type": "markdown",
   "id": "915f20dc",
   "metadata": {},
   "source": [
    "# 再学習プロセス"
   ]
  },
  {
   "cell_type": "code",
   "execution_count": 1,
   "id": "67f9919d",
   "metadata": {},
   "outputs": [],
   "source": [
    "import pandas as pd\n",
    "import mlflow\n",
    "import mlflow.sklearn\n",
    "from sklearn.metrics import f1_score, accuracy_score\n",
    "from datetime import datetime\n",
    "from pathlib import Path\n",
    "from mlflow.tracking import MlflowClient\n",
    "\n",
    "import sys\n",
    "sys.path.append('../..')\n",
    "\n",
    "from src.utils.io import load_month_data\n",
    "from src.utils.preprocess import preprocess_pipeline"
   ]
  },
  {
   "cell_type": "code",
   "execution_count": 12,
   "id": "f66a967c",
   "metadata": {},
   "outputs": [],
   "source": [
    "# 設定値を辞書で管理\n",
    "\n",
    "CONFIG = {\n",
    "    \"data_info\": [2014, 4],\n",
    "    \"model_name\": \"citibike_membership_model\",\n",
    "    \"eval_threshold\": 0.80,   # F1スコアの再学習トリガー\n",
    "    \"experiment_name\": \"citibike_retraining\",\n",
    "}"
   ]
  },
  {
   "cell_type": "code",
   "execution_count": 22,
   "id": "8725e151",
   "metadata": {},
   "outputs": [
    {
     "name": "stdout",
     "output_type": "stream",
     "text": [
      "エイリアスでバージョン情報を取得しました。\n",
      "Loaded model: citibike_membership_model (v2)\n",
      "モデルを正常にロードしました。URI: models:/citibike_membership_model@production\n"
     ]
    }
   ],
   "source": [
    "# 最新モデルをMLflow Registryから取得\n",
    "\n",
    "client = MlflowClient()\n",
    "\n",
    "try:\n",
    "    latest_model = client.get_model_version_by_alias(\n",
    "        name=CONFIG[\"model_name\"],\n",
    "        alias=\"production\"\n",
    "    )\n",
    "\n",
    "    print(f\"エイリアスでバージョン情報を取得しました。\")\n",
    "    print(f\"Loaded model: {latest_model.name} (v{latest_model.version})\")\n",
    "\n",
    "    model_uri = f\"models:/{CONFIG['model_name']}@production\"\n",
    "    \n",
    "    model = mlflow.pyfunc.load_model(model_uri)\n",
    "    \n",
    "    print(f\"モデルを正常にロードしました。URI: {model_uri}\")\n",
    "\n",
    "except Exception as e:\n",
    "    print(f\"モデルの取得またはロード中にエラーが発生しました: {e}\")\n"
   ]
  },
  {
   "cell_type": "code",
   "execution_count": 13,
   "id": "cce97cb8",
   "metadata": {},
   "outputs": [
    {
     "name": "stdout",
     "output_type": "stream",
     "text": [
      "Loading: [PosixPath('/app/data/raw/2014-citibike-tripdata/4_April/201404-citibike-tripdata_1.csv')]\n",
      "Data loaded: 670780 samples, 7 features\n"
     ]
    }
   ],
   "source": [
    "# データの読み込み、整形\n",
    "\n",
    "df_raw = load_month_data(*CONFIG[\"data_info\"])\n",
    "df = preprocess_pipeline(df_raw)\n",
    "\n",
    "X = df.drop(\"is_member\", axis=1)\n",
    "y = df[\"is_member\"]\n",
    "\n",
    "print(f\"Data loaded: {X.shape[0]} samples, {X.shape[1]} features\")"
   ]
  },
  {
   "cell_type": "code",
   "execution_count": 24,
   "id": "5e38e405",
   "metadata": {},
   "outputs": [
    {
     "data": {
      "text/plain": [
       "{'source_run_id': '441fde457cdc427dad211185c3d84bdb'}"
      ]
     },
     "execution_count": 24,
     "metadata": {},
     "output_type": "execute_result"
    }
   ],
   "source": [
    "latest_model.tags"
   ]
  },
  {
   "cell_type": "code",
   "execution_count": 15,
   "id": "47e4e56f",
   "metadata": {},
   "outputs": [
    {
     "data": {
      "text/plain": [
       "is_member\n",
       "1    607733\n",
       "0     63047\n",
       "Name: count, dtype: int64"
      ]
     },
     "execution_count": 15,
     "metadata": {},
     "output_type": "execute_result"
    }
   ],
   "source": [
    "df[\"is_member\"].value_counts()"
   ]
  },
  {
   "cell_type": "code",
   "execution_count": 16,
   "id": "b82a5d03",
   "metadata": {},
   "outputs": [
    {
     "name": "stdout",
     "output_type": "stream",
     "text": [
      "Current model performance: F1=1.000, Acc=1.000\n"
     ]
    }
   ],
   "source": [
    "# 部分サンプリング（高速化）\n",
    "sample = X.sample(frac=0.2, random_state=42)\n",
    "y_sample = y.loc[sample.index]\n",
    "\n",
    "y_pred = model.predict(sample)\n",
    "\n",
    "current_f1 = f1_score(y_sample, y_pred)\n",
    "current_acc = accuracy_score(y_sample, y_pred)\n",
    "\n",
    "print(f\"Current model performance: F1={current_f1:.3f}, Acc={current_acc:.3f}\")"
   ]
  },
  {
   "cell_type": "code",
   "execution_count": null,
   "id": "8eb9a0ab",
   "metadata": {},
   "outputs": [
    {
     "name": "stdout",
     "output_type": "stream",
     "text": [
      "✅ Model performance acceptable — retraining skipped.\n"
     ]
    }
   ],
   "source": [
    "if current_f1 < CONFIG[\"eval_threshold\"]:\n",
    "    print(\"Model performance below threshold — retraining triggered.\")\n",
    "    trigger_retrain = True\n",
    "else:\n",
    "    print(\"Model performance acceptable — retraining skipped.\")\n",
    "    trigger_retrain = False"
   ]
  },
  {
   "cell_type": "markdown",
   "id": "59473bd2",
   "metadata": {},
   "source": [
    "## run_idの管理\n",
    "\n",
    "現状では、Modelsの中でrun_idが取得できないので、  \n",
    "実験中とは別でrun_idを持ったままモデルを登録できる方法を探す"
   ]
  },
  {
   "cell_type": "code",
   "execution_count": 19,
   "id": "ffa9785b",
   "metadata": {},
   "outputs": [
    {
     "name": "stdout",
     "output_type": "stream",
     "text": [
      "{'n_estimators': '100', 'learning_rate': '0.1', 'max_depth': '5'}\n",
      "/app/mlruns/1/a524d0163c8c4f72855e5dcb53ed99e9/artifacts\n"
     ]
    }
   ],
   "source": [
    "from mlflow.tracking import MlflowClient\n",
    "client = MlflowClient()\n",
    "\n",
    "run_id = \"a524d0163c8c4f72855e5dcb53ed99e9\"  # ← UIのSource Run IDを貼る\n",
    "run = client.get_run(run_id)\n",
    "\n",
    "print(run.data.params)\n",
    "print(run.info.artifact_uri)"
   ]
  },
  {
   "cell_type": "code",
   "execution_count": 25,
   "id": "26a6615b",
   "metadata": {},
   "outputs": [],
   "source": [
    "# 手動でtagとしてrun_idを添付できる\n",
    "\n",
    "client.set_model_version_tag(\n",
    "    name=\"citibike_membership_model\",\n",
    "    version=5,\n",
    "    key=\"source_run_id\",\n",
    "    value=\"a524d0163c8c4f72855e5dcb53ed99e9\"  # UIで見えるSource Run IDをここに\n",
    ")"
   ]
  },
  {
   "cell_type": "code",
   "execution_count": 26,
   "id": "8f0275bf",
   "metadata": {},
   "outputs": [],
   "source": [
    "client.set_model_version_tag(\n",
    "    name=\"citibike_membership_model\",\n",
    "    version=2,\n",
    "    key=\"source_run_id\",\n",
    "    value=\"441fde457cdc427dad211185c3d84bdb\"  # UIで見えるSource Run IDをここに\n",
    ")"
   ]
  },
  {
   "cell_type": "code",
   "execution_count": 32,
   "id": "1b01fd73",
   "metadata": {},
   "outputs": [],
   "source": [
    "# 対象Experiment内のRunを一覧取得\n",
    "\n",
    "import mlflow\n",
    "from mlflow.tracking import MlflowClient\n",
    "\n",
    "client = MlflowClient()\n",
    "\n",
    "# 対象Experiment名を指定\n",
    "experiment_name = \"citibike_membership\"\n",
    "experiment = client.get_experiment_by_name(experiment_name)\n",
    "\n",
    "runs = client.search_runs(\n",
    "    experiment_ids=[experiment.experiment_id],\n",
    "    order_by=[\"metrics.test_f1_score DESC\"],\n",
    ")\n"
   ]
  },
  {
   "cell_type": "code",
   "execution_count": 33,
   "id": "6e75ab12",
   "metadata": {},
   "outputs": [
    {
     "data": {
      "text/plain": [
       "[<Run: data=<RunData: metrics={'test_accuracy': 1.0,\n",
       "  'test_f1_score': 1.0,\n",
       "  'test_precision': 1.0,\n",
       "  'test_recall': 1.0,\n",
       "  'train_accuracy': 0.9999375200456521,\n",
       "  'train_f1_score': 0.9999679880488715}, params={'max_iter': '500', 'random_state': '42'}, tags={'data_source': '[2014, 1]',\n",
       "  'framework': 'sklearn',\n",
       "  'mlflow.runName': 'logistic_regression_20251022_122051',\n",
       "  'mlflow.source.name': '/usr/local/lib/python3.11/site-packages/ipykernel_launcher.py',\n",
       "  'mlflow.source.type': 'LOCAL',\n",
       "  'mlflow.user': 'appuser',\n",
       "  'model_type': 'logistic_regression'}>, info=<RunInfo: artifact_uri='/app/mlruns/1/aff718a4185e46b1a8843d8b3343800f/artifacts', end_time=1761135656809, experiment_id='1', lifecycle_stage='active', run_id='aff718a4185e46b1a8843d8b3343800f', run_name='logistic_regression_20251022_122051', start_time=1761135651646, status='FINISHED', user_id='appuser'>, inputs=<RunInputs: dataset_inputs=[<DatasetInput: dataset=<Dataset: digest='0b63bd9d', name='citibike_data_20251022', profile='{\"num_rows\": 300097, \"num_elements\": 2400776}', schema=('{\"mlflow_colspec\": [{\"type\": \"double\", \"name\": \"start_hour\", \"required\": '\n",
       "  'true}, {\"type\": \"double\", \"name\": \"weekday\", \"required\": true}, {\"type\": '\n",
       "  '\"double\", \"name\": \"time_category\", \"required\": true}, {\"type\": \"double\", '\n",
       "  '\"name\": \"tripduration_min\", \"required\": true}, {\"type\": \"double\", \"name\": '\n",
       "  '\"station_usage_count\", \"required\": true}, {\"type\": \"double\", \"name\": '\n",
       "  '\"bike_usage_count\", \"required\": true}, {\"type\": \"double\", \"name\": \"gender\", '\n",
       "  '\"required\": true}, {\"type\": \"long\", \"name\": \"is_member\", \"required\": true}]}'), source=('{\"tags\": {\"mlflow.user\": \"appuser\", \"mlflow.source.name\": '\n",
       "  '\"/usr/local/lib/python3.11/site-packages/ipykernel_launcher.py\", '\n",
       "  '\"mlflow.source.type\": \"LOCAL\"}}'), source_type='code'>, tags=[<InputTag: key='mlflow.data.context', value='training'>]>], model_inputs=[]>, outputs=<RunOutputs: model_outputs=[]>>,\n",
       " <Run: data=<RunData: metrics={'test_accuracy': 1.0,\n",
       "  'test_f1_score': 1.0,\n",
       "  'test_precision': 1.0,\n",
       "  'test_recall': 1.0,\n",
       "  'train_accuracy': 0.9999375200456521,\n",
       "  'train_f1_score': 0.9999679880488715}, params={'C': '1.0',\n",
       "  'data_info': '[2014, 1]',\n",
       "  'max_iter': '1000',\n",
       "  'n_features': '7',\n",
       "  'random_state': '42',\n",
       "  'solver': 'lbfgs',\n",
       "  'test_samples': '60020',\n",
       "  'test_size': '0.2',\n",
       "  'train_samples': '240077'}, tags={'best_metric': 'f1_score',\n",
       "  'dataset': '[2014, 1]',\n",
       "  'framework': 'sklearn',\n",
       "  'mlflow.runName': 'logistic_regression_20251022_122023',\n",
       "  'mlflow.source.name': '/usr/local/lib/python3.11/site-packages/ipykernel_launcher.py',\n",
       "  'mlflow.source.type': 'LOCAL',\n",
       "  'mlflow.user': 'appuser',\n",
       "  'model_type': 'logistic_regression'}>, info=<RunInfo: artifact_uri='/app/mlruns/1/22b3106ba26b46f79534e789ffa92df2/artifacts', end_time=1761135640067, experiment_id='1', lifecycle_stage='active', run_id='22b3106ba26b46f79534e789ffa92df2', run_name='logistic_regression_20251022_122023', start_time=1761135623108, status='FINISHED', user_id='appuser'>, inputs=<RunInputs: dataset_inputs=[<DatasetInput: dataset=<Dataset: digest='0b63bd9d', name='citibike_data_20251022', profile='{\"num_rows\": 300097, \"num_elements\": 2400776}', schema=('{\"mlflow_colspec\": [{\"type\": \"double\", \"name\": \"start_hour\", \"required\": '\n",
       "  'true}, {\"type\": \"double\", \"name\": \"weekday\", \"required\": true}, {\"type\": '\n",
       "  '\"double\", \"name\": \"time_category\", \"required\": true}, {\"type\": \"double\", '\n",
       "  '\"name\": \"tripduration_min\", \"required\": true}, {\"type\": \"double\", \"name\": '\n",
       "  '\"station_usage_count\", \"required\": true}, {\"type\": \"double\", \"name\": '\n",
       "  '\"bike_usage_count\", \"required\": true}, {\"type\": \"double\", \"name\": \"gender\", '\n",
       "  '\"required\": true}, {\"type\": \"long\", \"name\": \"is_member\", \"required\": true}]}'), source=('{\"tags\": {\"mlflow.user\": \"appuser\", \"mlflow.source.name\": '\n",
       "  '\"/usr/local/lib/python3.11/site-packages/ipykernel_launcher.py\", '\n",
       "  '\"mlflow.source.type\": \"LOCAL\"}}'), source_type='code'>, tags=[<InputTag: key='mlflow.data.context', value='training'>]>], model_inputs=[]>, outputs=<RunOutputs: model_outputs=[]>>,\n",
       " <Run: data=<RunData: metrics={'test_accuracy': 1.0,\n",
       "  'test_f1_score': 1.0,\n",
       "  'test_precision': 1.0,\n",
       "  'test_recall': 1.0,\n",
       "  'train_accuracy': 0.9999375200456521,\n",
       "  'train_f1_score': 0.9999679880488715}, params={'C': '1.0',\n",
       "  'data_info': '[2014, 1]',\n",
       "  'max_iter': '1000',\n",
       "  'n_features': '7',\n",
       "  'random_state': '42',\n",
       "  'solver': 'lbfgs',\n",
       "  'test_samples': '60020',\n",
       "  'test_size': '0.2',\n",
       "  'train_samples': '240077'}, tags={'best_metric': 'f1_score',\n",
       "  'dataset': '[2014, 1]',\n",
       "  'framework': 'sklearn',\n",
       "  'mlflow.runName': 'logistic_regression_20251022_121010',\n",
       "  'mlflow.source.name': '/usr/local/lib/python3.11/site-packages/ipykernel_launcher.py',\n",
       "  'mlflow.source.type': 'LOCAL',\n",
       "  'mlflow.user': 'appuser',\n",
       "  'model_type': 'logistic_regression'}>, info=<RunInfo: artifact_uri='/app/mlruns/1/903859fd2939445a9c247b6f4c9872be/artifacts', end_time=1761135023546, experiment_id='1', lifecycle_stage='active', run_id='903859fd2939445a9c247b6f4c9872be', run_name='logistic_regression_20251022_121010', start_time=1761135010374, status='FINISHED', user_id='appuser'>, inputs=<RunInputs: dataset_inputs=[<DatasetInput: dataset=<Dataset: digest='0b63bd9d', name='citibike_data_20251022', profile='{\"num_rows\": 300097, \"num_elements\": 2400776}', schema=('{\"mlflow_colspec\": [{\"type\": \"double\", \"name\": \"start_hour\", \"required\": '\n",
       "  'true}, {\"type\": \"double\", \"name\": \"weekday\", \"required\": true}, {\"type\": '\n",
       "  '\"double\", \"name\": \"time_category\", \"required\": true}, {\"type\": \"double\", '\n",
       "  '\"name\": \"tripduration_min\", \"required\": true}, {\"type\": \"double\", \"name\": '\n",
       "  '\"station_usage_count\", \"required\": true}, {\"type\": \"double\", \"name\": '\n",
       "  '\"bike_usage_count\", \"required\": true}, {\"type\": \"double\", \"name\": \"gender\", '\n",
       "  '\"required\": true}, {\"type\": \"long\", \"name\": \"is_member\", \"required\": true}]}'), source=('{\"tags\": {\"mlflow.user\": \"appuser\", \"mlflow.source.name\": '\n",
       "  '\"/usr/local/lib/python3.11/site-packages/ipykernel_launcher.py\", '\n",
       "  '\"mlflow.source.type\": \"LOCAL\"}}'), source_type='code'>, tags=[<InputTag: key='mlflow.data.context', value='training'>]>], model_inputs=[]>, outputs=<RunOutputs: model_outputs=[]>>,\n",
       " <Run: data=<RunData: metrics={'test_accuracy': 0.9999833388870376,\n",
       "  'test_f1_score': 0.9999914641537135,\n",
       "  'test_precision': 0.9999829284531472,\n",
       "  'test_recall': 1.0,\n",
       "  'train_accuracy': 0.9999791733485507,\n",
       "  'train_f1_score': 0.9999893295773445}, params={'learning_rate': '0.1', 'max_depth': '5', 'n_estimators': '100'}, tags={'data_source': '[2014, 1]',\n",
       "  'framework': 'sklearn',\n",
       "  'mlflow.runName': 'xgboost_20251022_122124',\n",
       "  'mlflow.source.name': '/usr/local/lib/python3.11/site-packages/ipykernel_launcher.py',\n",
       "  'mlflow.source.type': 'LOCAL',\n",
       "  'mlflow.user': 'appuser',\n",
       "  'model_type': 'xgboost'}>, info=<RunInfo: artifact_uri='/app/mlruns/1/a524d0163c8c4f72855e5dcb53ed99e9/artifacts', end_time=1761135689400, experiment_id='1', lifecycle_stage='active', run_id='a524d0163c8c4f72855e5dcb53ed99e9', run_name='xgboost_20251022_122124', start_time=1761135684818, status='FINISHED', user_id='appuser'>, inputs=<RunInputs: dataset_inputs=[<DatasetInput: dataset=<Dataset: digest='0b63bd9d', name='citibike_data_20251022', profile='{\"num_rows\": 300097, \"num_elements\": 2400776}', schema=('{\"mlflow_colspec\": [{\"type\": \"double\", \"name\": \"start_hour\", \"required\": '\n",
       "  'true}, {\"type\": \"double\", \"name\": \"weekday\", \"required\": true}, {\"type\": '\n",
       "  '\"double\", \"name\": \"time_category\", \"required\": true}, {\"type\": \"double\", '\n",
       "  '\"name\": \"tripduration_min\", \"required\": true}, {\"type\": \"double\", \"name\": '\n",
       "  '\"station_usage_count\", \"required\": true}, {\"type\": \"double\", \"name\": '\n",
       "  '\"bike_usage_count\", \"required\": true}, {\"type\": \"double\", \"name\": \"gender\", '\n",
       "  '\"required\": true}, {\"type\": \"long\", \"name\": \"is_member\", \"required\": true}]}'), source=('{\"tags\": {\"mlflow.user\": \"appuser\", \"mlflow.source.name\": '\n",
       "  '\"/usr/local/lib/python3.11/site-packages/ipykernel_launcher.py\", '\n",
       "  '\"mlflow.source.type\": \"LOCAL\"}}'), source_type='code'>, tags=[<InputTag: key='mlflow.data.context', value='training'>]>], model_inputs=[]>, outputs=<RunOutputs: model_outputs=[]>>,\n",
       " <Run: data=<RunData: metrics={'test_accuracy': 0.9999666777740753,\n",
       "  'test_f1_score': 0.9999829284531472,\n",
       "  'test_precision': 0.9999658574891598,\n",
       "  'test_recall': 1.0,\n",
       "  'train_accuracy': 1.0,\n",
       "  'train_f1_score': 1.0}, params={'learning_rate': '0.1', 'n_estimators': '100', 'num_leaves': '31'}, tags={'data_source': '[2014, 1]',\n",
       "  'framework': 'sklearn',\n",
       "  'mlflow.runName': 'lgbm_20251022_122112',\n",
       "  'mlflow.source.name': '/usr/local/lib/python3.11/site-packages/ipykernel_launcher.py',\n",
       "  'mlflow.source.type': 'LOCAL',\n",
       "  'mlflow.user': 'appuser',\n",
       "  'model_type': 'lgbm'}>, info=<RunInfo: artifact_uri='/app/mlruns/1/89f6bd9003b54f24898ac6e74df146e2/artifacts', end_time=1761135680512, experiment_id='1', lifecycle_stage='active', run_id='89f6bd9003b54f24898ac6e74df146e2', run_name='lgbm_20251022_122112', start_time=1761135672621, status='FINISHED', user_id='appuser'>, inputs=<RunInputs: dataset_inputs=[<DatasetInput: dataset=<Dataset: digest='0b63bd9d', name='citibike_data_20251022', profile='{\"num_rows\": 300097, \"num_elements\": 2400776}', schema=('{\"mlflow_colspec\": [{\"type\": \"double\", \"name\": \"start_hour\", \"required\": '\n",
       "  'true}, {\"type\": \"double\", \"name\": \"weekday\", \"required\": true}, {\"type\": '\n",
       "  '\"double\", \"name\": \"time_category\", \"required\": true}, {\"type\": \"double\", '\n",
       "  '\"name\": \"tripduration_min\", \"required\": true}, {\"type\": \"double\", \"name\": '\n",
       "  '\"station_usage_count\", \"required\": true}, {\"type\": \"double\", \"name\": '\n",
       "  '\"bike_usage_count\", \"required\": true}, {\"type\": \"double\", \"name\": \"gender\", '\n",
       "  '\"required\": true}, {\"type\": \"long\", \"name\": \"is_member\", \"required\": true}]}'), source=('{\"tags\": {\"mlflow.user\": \"appuser\", \"mlflow.source.name\": '\n",
       "  '\"/usr/local/lib/python3.11/site-packages/ipykernel_launcher.py\", '\n",
       "  '\"mlflow.source.type\": \"LOCAL\"}}'), source_type='code'>, tags=[<InputTag: key='mlflow.data.context', value='training'>]>], model_inputs=[]>, outputs=<RunOutputs: model_outputs=[]>>,\n",
       " <Run: data=<RunData: metrics={'test_accuracy': 0.9999666777740753,\n",
       "  'test_f1_score': 0.9999829284531472,\n",
       "  'test_precision': 0.9999658574891598,\n",
       "  'test_recall': 1.0,\n",
       "  'train_accuracy': 0.9999666773576811,\n",
       "  'train_f1_score': 0.9999829272873166}, params={'max_depth': '5'}, tags={'data_source': '[2014, 1]',\n",
       "  'framework': 'sklearn',\n",
       "  'mlflow.runName': 'decision_tree_20251022_122059',\n",
       "  'mlflow.source.name': '/usr/local/lib/python3.11/site-packages/ipykernel_launcher.py',\n",
       "  'mlflow.source.type': 'LOCAL',\n",
       "  'mlflow.user': 'appuser',\n",
       "  'model_type': 'decision_tree'}>, info=<RunInfo: artifact_uri='/app/mlruns/1/441fde457cdc427dad211185c3d84bdb/artifacts', end_time=1761135664300, experiment_id='1', lifecycle_stage='active', run_id='441fde457cdc427dad211185c3d84bdb', run_name='decision_tree_20251022_122059', start_time=1761135659609, status='FINISHED', user_id='appuser'>, inputs=<RunInputs: dataset_inputs=[<DatasetInput: dataset=<Dataset: digest='0b63bd9d', name='citibike_data_20251022', profile='{\"num_rows\": 300097, \"num_elements\": 2400776}', schema=('{\"mlflow_colspec\": [{\"type\": \"double\", \"name\": \"start_hour\", \"required\": '\n",
       "  'true}, {\"type\": \"double\", \"name\": \"weekday\", \"required\": true}, {\"type\": '\n",
       "  '\"double\", \"name\": \"time_category\", \"required\": true}, {\"type\": \"double\", '\n",
       "  '\"name\": \"tripduration_min\", \"required\": true}, {\"type\": \"double\", \"name\": '\n",
       "  '\"station_usage_count\", \"required\": true}, {\"type\": \"double\", \"name\": '\n",
       "  '\"bike_usage_count\", \"required\": true}, {\"type\": \"double\", \"name\": \"gender\", '\n",
       "  '\"required\": true}, {\"type\": \"long\", \"name\": \"is_member\", \"required\": true}]}'), source=('{\"tags\": {\"mlflow.user\": \"appuser\", \"mlflow.source.name\": '\n",
       "  '\"/usr/local/lib/python3.11/site-packages/ipykernel_launcher.py\", '\n",
       "  '\"mlflow.source.type\": \"LOCAL\"}}'), source_type='code'>, tags=[<InputTag: key='mlflow.data.context', value='training'>]>], model_inputs=[]>, outputs=<RunOutputs: model_outputs=[]>>]"
      ]
     },
     "execution_count": 33,
     "metadata": {},
     "output_type": "execute_result"
    }
   ],
   "source": [
    "runs"
   ]
  },
  {
   "cell_type": "code",
   "execution_count": 37,
   "id": "3d47ed20",
   "metadata": {},
   "outputs": [],
   "source": [
    "best_run_id = runs[0].info.run_id"
   ]
  },
  {
   "cell_type": "code",
   "execution_count": 40,
   "id": "0f67ab4a",
   "metadata": {},
   "outputs": [
    {
     "data": {
      "text/plain": [
       "'runs:/aff718a4185e46b1a8843d8b3343800f/model'"
      ]
     },
     "execution_count": 40,
     "metadata": {},
     "output_type": "execute_result"
    }
   ],
   "source": [
    "# モデルの保存場所を確認（artifacts配下の model/）\n",
    "model_uri = f\"runs:/{best_run_id}/model\"\n",
    "model_uri"
   ]
  },
  {
   "cell_type": "code",
   "execution_count": 41,
   "id": "5b3e304c",
   "metadata": {},
   "outputs": [
    {
     "name": "stderr",
     "output_type": "stream",
     "text": [
      "Registered model 'citibike_membership_model' already exists. Creating a new version of this model...\n",
      "2025/10/23 08:03:51 WARNING mlflow.tracking._model_registry.fluent: Run with id aff718a4185e46b1a8843d8b3343800f has no artifacts at artifact path 'model', registering model based on models:/m-57d3530efb6e4f53bd3a8e6f4e842363 instead\n",
      "2025/10/23 08:03:52 INFO mlflow.store.model_registry.abstract_store: Waiting up to 300 seconds for model version to finish creation. Model name: citibike_membership_model, version 6\n"
     ]
    },
    {
     "name": "stdout",
     "output_type": "stream",
     "text": [
      "Registered as citibike_membership_model (version=6)\n"
     ]
    },
    {
     "name": "stderr",
     "output_type": "stream",
     "text": [
      "Created version '6' of model 'citibike_membership_model'.\n"
     ]
    }
   ],
   "source": [
    "# Model Registryに登録\n",
    "result = mlflow.register_model(\n",
    "    model_uri=model_uri,\n",
    "    name=\"citibike_membership_model\"\n",
    ")\n",
    "\n",
    "print(f\"Registered as {result.name} (version={result.version})\")"
   ]
  },
  {
   "cell_type": "code",
   "execution_count": 42,
   "id": "03dd2827",
   "metadata": {},
   "outputs": [],
   "source": [
    "client.set_model_version_tag(\n",
    "    name=\"citibike_membership_model\",\n",
    "    version=result.version,\n",
    "    key=\"registered_from_run\",\n",
    "    value=best_run_id\n",
    ")\n",
    "\n",
    "client.set_model_version_tag(\n",
    "    name=\"citibike_membership_model\",\n",
    "    version=result.version,\n",
    "    key=\"comment\",\n",
    "    value=\"Top F1 model from experiment citibike_membership\"\n",
    ")"
   ]
  },
  {
   "cell_type": "code",
   "execution_count": 47,
   "id": "097da76f",
   "metadata": {},
   "outputs": [],
   "source": [
    "\n",
    "latest_model = client.get_model_version_by_alias(\n",
    "    name=CONFIG[\"model_name\"],\n",
    "    alias=\"production\"\n",
    ")\n",
    "\n",
    "latest_production_version = latest_model.version"
   ]
  },
  {
   "cell_type": "code",
   "execution_count": 50,
   "id": "9cfc8a02",
   "metadata": {},
   "outputs": [],
   "source": [
    "\n",
    "\n",
    "# もしProductionエイリアスが付いているバージョンが存在すれば、エイリアスを削除\n",
    "if latest_production_version:\n",
    "    # get_latest_versionsはリストを返すため、最初のエントリを使用\n",
    "    # current_prod_version_number = latest_production_version[0].version\n",
    "    \n",
    "    # 既存のProductionエイリアスを削除\n",
    "    client.delete_registered_model_alias(\n",
    "        name=\"citibike_membership_model\",\n",
    "        alias=\"production\"\n",
    "    )\n",
    "\n",
    "\n",
    "# 2. 新しいモデルバージョンに 'Production' エイリアスを付与\n",
    "\n",
    "# result.version は新しいモデルのバージョン番号\n",
    "client.set_registered_model_alias(\n",
    "    name=\"citibike_membership_model\",\n",
    "    alias=\"production\",\n",
    "    version=result.version # 新しくProductionにするバージョン番号\n",
    ")"
   ]
  },
  {
   "cell_type": "markdown",
   "id": "b626d846",
   "metadata": {},
   "source": [
    "## register_best_modelの動作確認\n"
   ]
  },
  {
   "cell_type": "code",
   "execution_count": 2,
   "id": "5c57516b",
   "metadata": {},
   "outputs": [],
   "source": [
    "from src.pipelines.register_best_model import register_best_model\n",
    "from src.train.evaluator import evaluate_model\n",
    "from src.train.experiment import run_experiment\n"
   ]
  },
  {
   "cell_type": "code",
   "execution_count": 3,
   "id": "4a8329b5",
   "metadata": {},
   "outputs": [
    {
     "name": "stdout",
     "output_type": "stream",
     "text": [
      "Searching best run from experiment 'citibike_membership'...\n",
      "Best run: aff718a4185e46b1a8843d8b3343800f (metric=test_f1_score: 1.0000)\n",
      "Current Production model: v8 (run_id=aff718a4185e46b1a8843d8b3343800f)\n",
      "Best run is same as current Production model. No update needed.\n"
     ]
    }
   ],
   "source": [
    "register_best_model()"
   ]
  },
  {
   "cell_type": "markdown",
   "id": "d3e37a34",
   "metadata": {},
   "source": [
    "## 再学習パイプライン検討\n",
    "\n",
    "新しいデータが来たときに：\n",
    "- 現行のProductionモデルをロード\n",
    "- 新データに対して推論 → 精度・分布などを比較\n",
    "- 条件（精度改善・閾値超えなど）を満たせば再学習\n",
    "- MLflowに自動でログ＋Model Registry更新"
   ]
  },
  {
   "cell_type": "code",
   "execution_count": 3,
   "id": "51c4dbb1",
   "metadata": {},
   "outputs": [],
   "source": [
    "# 設定値を辞書で管理\n",
    "\n",
    "CONFIG = {\n",
    "    \"data_info\": [2014, 4],     # 新しいデータの年月を入れることを想定\n",
    "    \"model_name\": \"citibike_membership_model\",\n",
    "    \"eval_threshold\": 0.80,   # F1スコアの再学習トリガー\n",
    "    \"experiment_name\": \"citibike_retraining\",\n",
    "    \"metric\": \"test_f1_score\"\n",
    "}"
   ]
  },
  {
   "cell_type": "code",
   "execution_count": 6,
   "id": "dc01311d",
   "metadata": {},
   "outputs": [],
   "source": [
    "def retrain_if_needed(year: int, month: int, threshold: float = 0.01):\n",
    "    \"\"\"\n",
    "    新しいデータで再学習を実施し、精度が改善した場合にモデルを更新する。\n",
    "\n",
    "    Parameters\n",
    "    ----------\n",
    "    year : int\n",
    "        新データの対象年\n",
    "    month : int\n",
    "        新データの対象月\n",
    "    threshold : float\n",
    "        現行モデルより改善が必要な最小スコア差（例: 0.01 = 1%）\n",
    "    \"\"\"\n",
    "    model_name = CONFIG[\"model_name\"]\n",
    "    experiment_name = CONFIG[\"experiment_name\"]\n",
    "    metric_key = CONFIG[\"metric\"]\n",
    "    \n",
    "    client = MlflowClient()\n",
    "    \n",
    "    # Productionモデルを取得\n",
    "    try:\n",
    "        prod_model = client.get_model_version_by_alias(model_name, \"production\")\n",
    "        prod_run_id = prod_model.tags.get(\"registered_from_run\")\n",
    "        prod_uri = f\"runs:/{prod_run_id}/model\"\n",
    "        prod_model_loaded = mlflow.sklearn.load_model(prod_uri)\n",
    "        print(f\"Loaded current production model (v{prod_model.version})\")\n",
    "    except Exception as e:\n",
    "        print(f\"⚠️ No production model found, retraining from scratch. ({e})\")\n",
    "        prod_model_loaded = None\n",
    "        prod_run_id = None\n",
    "\n",
    "    # 新データを読み込み\n",
    "    df_raw = load_month_data(year, month)\n",
    "    df = preprocess_pipeline(df_raw)\n",
    "\n",
    "    X = df.drop(\"is_member\", axis=1)\n",
    "    y = df[\"is_member\"] \n",
    "    \n",
    "    # 現行モデルで評価\n",
    "    if prod_model_loaded:\n",
    "        old_metrics = evaluate_model(prod_model_loaded, X, y)\n",
    "        print(f\"Current model F1: {old_metrics['f1_score']:.4f}\")\n",
    "    else:\n",
    "        old_metrics = {\"f1_score\": 0.0}\n",
    "        \n",
    "    # 新しいデータで再学習\n",
    "    print(\"Training new model (with inherited parameters)...\")\n",
    "\n",
    "    # デフォルト値\n",
    "    model_name = \"logistic_regression\"\n",
    "    inherited_params = {\"max_iter\": 500}\n",
    "    \n",
    "    if prod_run_id:\n",
    "        try:\n",
    "            prod_run = client.get_run(prod_run_id)\n",
    "            prod_params = prod_run.data.params      # dict[str, str]\n",
    "            model_name = prod_run.data.tags.get(\"model_type\", model_name)\n",
    "            \n",
    "            # 型変換（MLflowはparamsをstrで保存する）\n",
    "            for k, v in prod_params.items():\n",
    "                if v.isdigit():\n",
    "                    prod_params[k] = int(v)\n",
    "                else:\n",
    "                    try:\n",
    "                        prod_params[k] = float(v)\n",
    "                    except ValueError:\n",
    "                        pass\n",
    "            print(f\"Inherited params: {inherited_params}\")\n",
    "            print(f\"Model type: {model_name}\")\n",
    "        except Exception as e:\n",
    "            print(f\"Failed to load inherited params: {e}\")\n",
    "            prod_params = None\n",
    "            \n",
    "    # 再学習\n",
    "    new_metrics = run_experiment(\n",
    "        data_info=[year, month],\n",
    "        model_name=model_name,\n",
    "        params=prod_params,         # type: ignore\n",
    "        experiment_name=experiment_name\n",
    "    )\n",
    "    \n",
    "    print(f\"New model F1: {new_metrics['test_f1_score']:.4f}\")\n",
    "    \n",
    "    # 精度比較\n",
    "    improvement = new_metrics[\"test_f1_score\"] - old_metrics[\"f1_score\"]\n",
    "    if improvement >= threshold:\n",
    "        print(f\"Improvement detected (+{improvement:.4f}), updating model...\")\n",
    "        register_best_model()\n",
    "    else:\n",
    "        print(f\"No significant improvement ({improvement:.4f}), keeping current model.\")\n",
    "    \n",
    "    "
   ]
  },
  {
   "cell_type": "code",
   "execution_count": 7,
   "id": "07f26bb9",
   "metadata": {},
   "outputs": [
    {
     "name": "stderr",
     "output_type": "stream",
     "text": [
      "/usr/local/lib/python3.11/site-packages/tqdm/auto.py:21: TqdmWarning: IProgress not found. Please update jupyter and ipywidgets. See https://ipywidgets.readthedocs.io/en/stable/user_install.html\n",
      "  from .autonotebook import tqdm as notebook_tqdm\n",
      "Downloading artifacts:   0%|          | 0/1 [00:00<?, ?it/s]\n",
      "Downloading artifacts: 100%|██████████| 7/7 [00:00<00:00, 3244.21it/s] \n"
     ]
    },
    {
     "name": "stdout",
     "output_type": "stream",
     "text": [
      "Loaded current production model (v8)\n",
      "Loading: [PosixPath('/app/data/raw/2014-citibike-tripdata/6_June/201406-citibike-tripdata_1.csv')]\n",
      "Current model F1: 0.9992\n",
      "Training new model (with inherited parameters)...\n",
      "Inherited params: {'max_iter': 500}\n",
      "Model type: logistic_regression\n",
      "Loading: [PosixPath('/app/data/raw/2014-citibike-tripdata/6_June/201406-citibike-tripdata_1.csv')]\n"
     ]
    },
    {
     "name": "stderr",
     "output_type": "stream",
     "text": [
      "2025/10/26 23:21:18 INFO mlflow.tracking.fluent: Experiment with name 'citibike_retraining' does not exist. Creating a new experiment.\n",
      "/usr/local/lib/python3.11/site-packages/mlflow/types/utils.py:452: UserWarning: Hint: Inferred schema contains integer column(s). Integer columns in Python cannot represent missing values. If your input data contains missing values at inference time, it will be encoded as floats and will cause a schema enforcement error. The best way to avoid this problem is to infer the model schema based on a realistic data sample (training dataset) that includes missing values. Alternatively, you can declare integer columns as doubles (float64) whenever these columns may have missing values. See `Handling Integers With Missing Values <https://www.mlflow.org/docs/latest/models.html#handling-integers-with-missing-values>`_ for more details.\n",
      "  warnings.warn(\n",
      "2025/10/26 23:21:23 WARNING mlflow.models.model: `artifact_path` is deprecated. Please use `name` instead.\n",
      "/usr/local/lib/python3.11/site-packages/mlflow/types/utils.py:452: UserWarning: Hint: Inferred schema contains integer column(s). Integer columns in Python cannot represent missing values. If your input data contains missing values at inference time, it will be encoded as floats and will cause a schema enforcement error. The best way to avoid this problem is to infer the model schema based on a realistic data sample (training dataset) that includes missing values. Alternatively, you can declare integer columns as doubles (float64) whenever these columns may have missing values. See `Handling Integers With Missing Values <https://www.mlflow.org/docs/latest/models.html#handling-integers-with-missing-values>`_ for more details.\n",
      "  warnings.warn(\n"
     ]
    },
    {
     "name": "stdout",
     "output_type": "stream",
     "text": [
      "🏃 View run logistic_regression_20251026_232118 at: http://mlflow:5000/#/experiments/2/runs/3266fc36774f4c92bf01cf39b3db98d0\n",
      "🧪 View experiment at: http://mlflow:5000/#/experiments/2\n",
      "New model F1: 0.9999\n",
      "No significant improvement (0.0007), keeping current model.\n"
     ]
    }
   ],
   "source": [
    "retrain_if_needed(2014, 6)"
   ]
  },
  {
   "cell_type": "code",
   "execution_count": 4,
   "id": "44328ad1",
   "metadata": {},
   "outputs": [],
   "source": [
    "# 動作確認\n",
    "from src.pipelines.retrain_pipeline import retrain_if_needed"
   ]
  },
  {
   "cell_type": "code",
   "execution_count": 5,
   "id": "a3e6503b",
   "metadata": {},
   "outputs": [
    {
     "name": "stderr",
     "output_type": "stream",
     "text": [
      "/usr/local/lib/python3.11/site-packages/tqdm/auto.py:21: TqdmWarning: IProgress not found. Please update jupyter and ipywidgets. See https://ipywidgets.readthedocs.io/en/stable/user_install.html\n",
      "  from .autonotebook import tqdm as notebook_tqdm\n",
      "Downloading artifacts:   0%|          | 0/1 [00:00<?, ?it/s]\n",
      "Downloading artifacts: 100%|██████████| 7/7 [00:00<00:00, 2075.36it/s] \n"
     ]
    },
    {
     "name": "stdout",
     "output_type": "stream",
     "text": [
      "Loaded current production model (v8)\n",
      "Loading: [PosixPath('/app/data/raw/2014-citibike-tripdata/7_July/201407-citibike-tripdata_1.csv')]\n",
      "Inherited params: {'max_iter': 500, 'random_state': 42}\n",
      "Model type: logistic_regression\n",
      "Loading: [PosixPath('/app/data/raw/2014-citibike-tripdata/7_July/201407-citibike-tripdata_1.csv')]\n"
     ]
    },
    {
     "name": "stderr",
     "output_type": "stream",
     "text": [
      "/usr/local/lib/python3.11/site-packages/mlflow/types/utils.py:452: UserWarning: Hint: Inferred schema contains integer column(s). Integer columns in Python cannot represent missing values. If your input data contains missing values at inference time, it will be encoded as floats and will cause a schema enforcement error. The best way to avoid this problem is to infer the model schema based on a realistic data sample (training dataset) that includes missing values. Alternatively, you can declare integer columns as doubles (float64) whenever these columns may have missing values. See `Handling Integers With Missing Values <https://www.mlflow.org/docs/latest/models.html#handling-integers-with-missing-values>`_ for more details.\n",
      "  warnings.warn(\n",
      "2025/10/26 23:54:40 WARNING mlflow.models.model: `artifact_path` is deprecated. Please use `name` instead.\n",
      "/usr/local/lib/python3.11/site-packages/mlflow/types/utils.py:452: UserWarning: Hint: Inferred schema contains integer column(s). Integer columns in Python cannot represent missing values. If your input data contains missing values at inference time, it will be encoded as floats and will cause a schema enforcement error. The best way to avoid this problem is to infer the model schema based on a realistic data sample (training dataset) that includes missing values. Alternatively, you can declare integer columns as doubles (float64) whenever these columns may have missing values. See `Handling Integers With Missing Values <https://www.mlflow.org/docs/latest/models.html#handling-integers-with-missing-values>`_ for more details.\n",
      "  warnings.warn(\n"
     ]
    },
    {
     "name": "stdout",
     "output_type": "stream",
     "text": [
      "🏃 View run logistic_regression_20251026_235436 at: http://mlflow:5000/#/experiments/1/runs/ffcffa3310204eb49136f655b5b9dffb\n",
      "🧪 View experiment at: http://mlflow:5000/#/experiments/1\n",
      "Old F1=0.9989 → New F1=0.9998 (+0.0009)\n",
      "No significant improvement (+0.0009), keeping current model.\n"
     ]
    }
   ],
   "source": [
    "retrain_if_needed(2014, 7)"
   ]
  },
  {
   "cell_type": "code",
   "execution_count": null,
   "id": "b265def3",
   "metadata": {},
   "outputs": [],
   "source": []
  }
 ],
 "metadata": {
  "kernelspec": {
   "display_name": "Python 3",
   "language": "python",
   "name": "python3"
  },
  "language_info": {
   "codemirror_mode": {
    "name": "ipython",
    "version": 3
   },
   "file_extension": ".py",
   "mimetype": "text/x-python",
   "name": "python",
   "nbconvert_exporter": "python",
   "pygments_lexer": "ipython3",
   "version": "3.11.14"
  }
 },
 "nbformat": 4,
 "nbformat_minor": 5
}
