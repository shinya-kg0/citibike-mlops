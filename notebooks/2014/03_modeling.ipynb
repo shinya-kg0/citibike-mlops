{
 "cells": [
  {
   "cell_type": "markdown",
   "id": "e1b0328d",
   "metadata": {},
   "source": [
    "# モデル調査"
   ]
  },
  {
   "cell_type": "code",
   "execution_count": 1,
   "id": "a889a50a",
   "metadata": {},
   "outputs": [],
   "source": [
    "import mlflow\n",
    "import mlflow.sklearn\n",
    "from sklearn.model_selection import train_test_split\n",
    "from sklearn.linear_model import LogisticRegression\n",
    "from sklearn.metrics import accuracy_score, f1_score, precision_score, recall_score, confusion_matrix\n",
    "import pandas as pd\n",
    "import json\n",
    "from datetime import datetime\n",
    "from pathlib import Path\n",
    "import logging\n",
    "\n",
    "# ロギング設定\n",
    "logging.basicConfig(level=logging.INFO)\n",
    "logger = logging.getLogger(__name__)"
   ]
  },
  {
   "cell_type": "code",
   "execution_count": 2,
   "id": "cfb9835f",
   "metadata": {},
   "outputs": [],
   "source": [
    "from enum import Enum, auto\n",
    "import sys\n",
    "sys.path.append('../..')\n",
    "\n",
    "from src.utils.io import load_month_data\n",
    "from src.utils.preprocess import preprocess_pipeline\n"
   ]
  },
  {
   "cell_type": "code",
   "execution_count": 3,
   "id": "717d44c8",
   "metadata": {},
   "outputs": [],
   "source": [
    "def train_and_log_experiment(\n",
    "    data_info: list[int],\n",
    "    model_name: str = \"logistic_regression\",\n",
    "    params: dict | None = None,\n",
    "    test_size: float = 0.2,\n",
    "    random_state: int = 42,\n",
    "    experiment_name: str = \"citibike_membership\",\n",
    "):\n",
    "    \"\"\"\n",
    "    学習とMLflowへのログを行う汎用関数\n",
    "\n",
    "    Parameters\n",
    "    ----------\n",
    "    data_info :list[int]\n",
    "        学習データ（CSV）取得に必要な情報 (ex）[2014, 1])\n",
    "    model_name : str\n",
    "        モデル名（MLflowのrun_nameなどに使用）\n",
    "    params : dict\n",
    "        モデルのハイパーパラメータ\n",
    "    test_size : float\n",
    "        テストデータ比率\n",
    "    random_state : int\n",
    "        乱数シード\n",
    "    experiment_name : str\n",
    "        MLflow実験名\n",
    "\n",
    "    Returns\n",
    "    -------\n",
    "    dict : 実験結果のメトリクス\n",
    "    \"\"\"\n",
    "    try:\n",
    "        logger.info(f\"Loading data from {data_info[0]}-{data_info[1]}\")\n",
    "\n",
    "        # データ読み込み\n",
    "        df_org = load_month_data(*data_info)\n",
    "        df = preprocess_pipeline(df_org)\n",
    "        \n",
    "        X = df.drop(\"is_member\", axis=1)\n",
    "        y = df[\"is_member\"]\n",
    "\n",
    "        X_train, X_test, y_train, y_test = train_test_split(\n",
    "            X, y, test_size=test_size, random_state=random_state\n",
    "        )\n",
    "        \n",
    "        logger.info(f\"Data split: train={len(X_train)}, test={len(X_test)}\")\n",
    "\n",
    "        if params is None:\n",
    "            params = {\"max_iter\": 500, \"random_state\": random_state}\n",
    "\n",
    "        if model_name == \"logistic_regression\":\n",
    "            model = LogisticRegression(**params)\n",
    "        else:\n",
    "            raise ValueError(f\"Unsupported model: {model_name}\")\n",
    "    \n",
    "        # MLflow設定\n",
    "        mlflow.set_experiment(experiment_name)\n",
    "    \n",
    "        with mlflow.start_run(\n",
    "            run_name=f\"{model_name}_{datetime.now().strftime('%Y%m%d_%H%M%S')}\"\n",
    "        ) as run:\n",
    "            logger.info(f\"MLflow run started: {run.info.run_id}\")\n",
    "            \n",
    "            dataset_params = {\n",
    "                \"data_info\": data_info,\n",
    "                \"test_size\": test_size,\n",
    "                \"random_state\": random_state,\n",
    "                \"train_samples\": len(X_train),\n",
    "                \"test_samples\": len(X_test),\n",
    "                \"n_features\": X_train.shape[1],\n",
    "                \"feature_names\": X_train.columns.tolist(),\n",
    "                \"class_distribution_train\": y_train.value_counts().to_dict(),\n",
    "                \"class_distribution_test\": y_test.value_counts().to_dict(),\n",
    "            }\n",
    "            \n",
    "            # パラメータをログ\n",
    "            mlflow.log_params({\n",
    "                k: v for k, v in dataset_params.items()\n",
    "                if k not in [\"feature_names\", \"class_distribution_train\", \"class_distribution_test\"]\n",
    "            })\n",
    "            \n",
    "            # 特徴量名をファイルとして保存\n",
    "            feature_path = Path(\"interim/features.json\")\n",
    "            feature_path.parent.mkdir(exist_ok=True, parents=True)\n",
    "            with open(feature_path, \"w\") as f:\n",
    "                json.dump(dataset_params[\"feature_names\"], f, indent=2)           \n",
    "            mlflow.log_artifact(str(feature_path), \"dataset_info\")\n",
    "            \n",
    "            # クラス分布を記録\n",
    "            class_dist_path = Path(\"interim/class_distribution.json\")\n",
    "            class_dist_path.parent.mkdir(exist_ok=True, parents=True)\n",
    "            with open(class_dist_path, \"w\") as f:\n",
    "                json.dump({\n",
    "                    \"train\": dataset_params[\"class_distribution_train\"],\n",
    "                    \"test\": dataset_params[\"class_distribution_test\"]\n",
    "                }, f, indent=2)\n",
    "            mlflow.log_artifact(str(class_dist_path), \"dataset_info\")        \n",
    "            \n",
    "            # データセットの追跡（スナップショットを記録）\n",
    "            try:\n",
    "                mlflow.log_input(\n",
    "                    mlflow.data.from_pandas(            # type: ignore\n",
    "                        df,\n",
    "                        name=f\"citibike_data_{datetime.now().strftime('%Y%m%d')}\",\n",
    "                    ),\n",
    "                    context=\"training\",\n",
    "                )\n",
    "                logger.info(\"Dataset logged to MLflow\")\n",
    "            except Exception as e:\n",
    "                logger.warning(f\"Failed to log dataset: {e}\")\n",
    "                \n",
    "            # パラメーターをログ\n",
    "            mlflow.log_params(params) # type: ignore\n",
    "\n",
    "            logger.info(\"Training model...\")\n",
    "            model.fit(X_train, y_train)\n",
    "            \n",
    "            y_pred_train = model.predict(X_train)\n",
    "            y_pred_test = model.predict(X_test)          \n",
    "\n",
    "            # 確率予測がある場合は記録\n",
    "            if hasattr(model, \"predict_proba\"):\n",
    "                y_proba_test = model.predict_proba(X_test)         \n",
    "            \n",
    "            metrics = {\n",
    "                # テストセットのメトリクス\n",
    "                \"test_accuracy\": accuracy_score(y_test, y_pred_test),\n",
    "                \"test_precision\": precision_score(y_test, y_pred_test, zero_division=0),\n",
    "                \"test_recall\": recall_score(y_test, y_pred_test, zero_division=0),\n",
    "                \"test_f1_score\": f1_score(y_test, y_pred_test, zero_division=0),\n",
    "                # 訓練セットのメトリクス（過学習チェック用）\n",
    "                \"train_accuracy\": accuracy_score(y_train, y_pred_train),\n",
    "                \"train_f1_score\": f1_score(y_train, y_pred_train, zero_division=0),\n",
    "            }\n",
    "            \n",
    "            # メトリクスを一括ログ\n",
    "            mlflow.log_metrics(metrics)        \n",
    "            \n",
    "            logger.info(f\"Test Accuracy: {metrics['test_accuracy']:.4f}\")\n",
    "            logger.info(f\"Test F1-Score: {metrics['test_f1_score']:.4f}\")\n",
    "    \n",
    "            # 混同行列を保存\n",
    "            cm = confusion_matrix(y_test, y_pred_test)\n",
    "            cm_path = Path(\"interim/confusion_matrix.json\")\n",
    "            cm_path.parent.mkdir(exist_ok=True, parents=True)\n",
    "            with open(cm_path, \"w\") as f:\n",
    "                json.dump({\n",
    "                    \"matrix\": cm.tolist(),\n",
    "                    \"labels\": [\"Non-Member\", \"Member\"]\n",
    "                }, f, indent=2)\n",
    "            mlflow.log_artifact(str(cm_path), \"evaluation\")\n",
    "            \n",
    "            # モデルの保存\n",
    "            signature = mlflow.models.infer_signature(      # type: ignore\n",
    "                X_train, \n",
    "                model.predict(X_train)\n",
    "            )\n",
    "\n",
    "            mlflow.sklearn.log_model(                       # type: ignore\n",
    "                model,\n",
    "                name=\"model\",\n",
    "                signature=signature,\n",
    "                input_example=X_train.iloc[:5],  # サンプル入力例\n",
    "            )\n",
    "            \n",
    "            mlflow.set_tags({\n",
    "                \"model_type\": model_name,\n",
    "                \"framework\": \"sklearn\",\n",
    "                \"dataset\": data_info,\n",
    "                \"best_metric\": \"f1_score\",\n",
    "            })\n",
    "            \n",
    "            logger.info(f\"Experiment logged successfully (run_id={run.info.run_id})\")\n",
    "            \n",
    "        return metrics\n",
    "\n",
    "    except Exception as e:\n",
    "        logger.error(f\"Error during experiment: {str(e)}\")\n",
    "        if mlflow.active_run():\n",
    "            mlflow.end_run(status=\"FAILED\")\n",
    "        raise"
   ]
  },
  {
   "cell_type": "code",
   "execution_count": 4,
   "id": "8753131b",
   "metadata": {},
   "outputs": [
    {
     "name": "stderr",
     "output_type": "stream",
     "text": [
      "INFO:__main__:Loading data from 2014-1\n"
     ]
    },
    {
     "name": "stdout",
     "output_type": "stream",
     "text": [
      "Loading: [PosixPath('/app/data/raw/2014-citibike-tripdata/1_January/201401-citibike-tripdata_1.csv')]\n"
     ]
    },
    {
     "name": "stderr",
     "output_type": "stream",
     "text": [
      "INFO:__main__:Data split: train=240077, test=60020\n",
      "INFO:__main__:MLflow run started: 22b3106ba26b46f79534e789ffa92df2\n",
      "/usr/local/lib/python3.11/site-packages/mlflow/types/utils.py:452: UserWarning: Hint: Inferred schema contains integer column(s). Integer columns in Python cannot represent missing values. If your input data contains missing values at inference time, it will be encoded as floats and will cause a schema enforcement error. The best way to avoid this problem is to infer the model schema based on a realistic data sample (training dataset) that includes missing values. Alternatively, you can declare integer columns as doubles (float64) whenever these columns may have missing values. See `Handling Integers With Missing Values <https://www.mlflow.org/docs/latest/models.html#handling-integers-with-missing-values>`_ for more details.\n",
      "  warnings.warn(\n",
      "INFO:__main__:Dataset logged to MLflow\n",
      "INFO:__main__:Training model...\n",
      "INFO:__main__:Test Accuracy: 1.0000\n",
      "INFO:__main__:Test F1-Score: 1.0000\n",
      "INFO:__main__:Experiment logged successfully (run_id=22b3106ba26b46f79534e789ffa92df2)\n"
     ]
    },
    {
     "name": "stdout",
     "output_type": "stream",
     "text": [
      "🏃 View run logistic_regression_20251022_122023 at: http://mlflow:5000/#/experiments/1/runs/22b3106ba26b46f79534e789ffa92df2\n",
      "🧪 View experiment at: http://mlflow:5000/#/experiments/1\n",
      "{'test_accuracy': 1.0, 'test_precision': 1.0, 'test_recall': 1.0, 'test_f1_score': 1.0, 'train_accuracy': 0.9999375200456521, 'train_f1_score': 0.9999679880488715}\n"
     ]
    }
   ],
   "source": [
    "metrics = train_and_log_experiment(\n",
    "    data_info=[2014, 1],\n",
    "    model_name=\"logistic_regression\",\n",
    "    params={\n",
    "        \"max_iter\": 1000,\n",
    "        \"C\": 1.0,\n",
    "        \"solver\": \"lbfgs\",\n",
    "        \"random_state\": 42,\n",
    "    },\n",
    "    test_size=0.2,\n",
    "    random_state=42\n",
    ")\n",
    "\n",
    "print(metrics)"
   ]
  },
  {
   "cell_type": "code",
   "execution_count": 5,
   "id": "1a8ad388",
   "metadata": {},
   "outputs": [
    {
     "name": "stdout",
     "output_type": "stream",
     "text": [
      "Loading: [PosixPath('/app/data/raw/2014-citibike-tripdata/1_January/201401-citibike-tripdata_1.csv')]\n"
     ]
    },
    {
     "name": "stderr",
     "output_type": "stream",
     "text": [
      "/usr/local/lib/python3.11/site-packages/mlflow/types/utils.py:452: UserWarning: Hint: Inferred schema contains integer column(s). Integer columns in Python cannot represent missing values. If your input data contains missing values at inference time, it will be encoded as floats and will cause a schema enforcement error. The best way to avoid this problem is to infer the model schema based on a realistic data sample (training dataset) that includes missing values. Alternatively, you can declare integer columns as doubles (float64) whenever these columns may have missing values. See `Handling Integers With Missing Values <https://www.mlflow.org/docs/latest/models.html#handling-integers-with-missing-values>`_ for more details.\n",
      "  warnings.warn(\n",
      "2025/10/22 12:20:53 WARNING mlflow.models.model: `artifact_path` is deprecated. Please use `name` instead.\n",
      "/usr/local/lib/python3.11/site-packages/mlflow/types/utils.py:452: UserWarning: Hint: Inferred schema contains integer column(s). Integer columns in Python cannot represent missing values. If your input data contains missing values at inference time, it will be encoded as floats and will cause a schema enforcement error. The best way to avoid this problem is to infer the model schema based on a realistic data sample (training dataset) that includes missing values. Alternatively, you can declare integer columns as doubles (float64) whenever these columns may have missing values. See `Handling Integers With Missing Values <https://www.mlflow.org/docs/latest/models.html#handling-integers-with-missing-values>`_ for more details.\n",
      "  warnings.warn(\n"
     ]
    },
    {
     "name": "stdout",
     "output_type": "stream",
     "text": [
      "🏃 View run logistic_regression_20251022_122051 at: http://mlflow:5000/#/experiments/1/runs/aff718a4185e46b1a8843d8b3343800f\n",
      "🧪 View experiment at: http://mlflow:5000/#/experiments/1\n",
      "{'train_accuracy': 0.9999375200456521, 'train_f1_score': 0.9999679880488715, 'test_accuracy': 1.0, 'test_precision': 1.0, 'test_recall': 1.0, 'test_f1_score': 1.0, 'confusion_matrix': [[1444, 0], [0, 58576]]}\n"
     ]
    }
   ],
   "source": [
    "from src.train.experiment import run_experiment\n",
    "\n",
    "metrics = run_experiment(\n",
    "    data_info=[2014, 1],\n",
    "    model_name=\"logistic_regression\",\n",
    "    params={\"max_iter\": 500, \"random_state\": 42},\n",
    "    experiment_name=\"citibike_membership\"\n",
    ")\n",
    "\n",
    "print(metrics)"
   ]
  },
  {
   "cell_type": "code",
   "execution_count": 6,
   "id": "22295bb0",
   "metadata": {},
   "outputs": [
    {
     "name": "stdout",
     "output_type": "stream",
     "text": [
      "Loading: [PosixPath('/app/data/raw/2014-citibike-tripdata/1_January/201401-citibike-tripdata_1.csv')]\n"
     ]
    },
    {
     "name": "stderr",
     "output_type": "stream",
     "text": [
      "/usr/local/lib/python3.11/site-packages/mlflow/types/utils.py:452: UserWarning: Hint: Inferred schema contains integer column(s). Integer columns in Python cannot represent missing values. If your input data contains missing values at inference time, it will be encoded as floats and will cause a schema enforcement error. The best way to avoid this problem is to infer the model schema based on a realistic data sample (training dataset) that includes missing values. Alternatively, you can declare integer columns as doubles (float64) whenever these columns may have missing values. See `Handling Integers With Missing Values <https://www.mlflow.org/docs/latest/models.html#handling-integers-with-missing-values>`_ for more details.\n",
      "  warnings.warn(\n",
      "2025/10/22 12:21:01 WARNING mlflow.models.model: `artifact_path` is deprecated. Please use `name` instead.\n",
      "/usr/local/lib/python3.11/site-packages/mlflow/types/utils.py:452: UserWarning: Hint: Inferred schema contains integer column(s). Integer columns in Python cannot represent missing values. If your input data contains missing values at inference time, it will be encoded as floats and will cause a schema enforcement error. The best way to avoid this problem is to infer the model schema based on a realistic data sample (training dataset) that includes missing values. Alternatively, you can declare integer columns as doubles (float64) whenever these columns may have missing values. See `Handling Integers With Missing Values <https://www.mlflow.org/docs/latest/models.html#handling-integers-with-missing-values>`_ for more details.\n",
      "  warnings.warn(\n"
     ]
    },
    {
     "name": "stdout",
     "output_type": "stream",
     "text": [
      "🏃 View run decision_tree_20251022_122059 at: http://mlflow:5000/#/experiments/1/runs/441fde457cdc427dad211185c3d84bdb\n",
      "🧪 View experiment at: http://mlflow:5000/#/experiments/1\n"
     ]
    },
    {
     "data": {
      "text/plain": [
       "{'train_accuracy': 0.9999666773576811,\n",
       " 'train_f1_score': 0.9999829272873166,\n",
       " 'test_accuracy': 0.9999666777740753,\n",
       " 'test_precision': 0.9999658574891598,\n",
       " 'test_recall': 1.0,\n",
       " 'test_f1_score': 0.9999829284531472,\n",
       " 'confusion_matrix': [[1442, 2], [0, 58576]]}"
      ]
     },
     "execution_count": 6,
     "metadata": {},
     "output_type": "execute_result"
    }
   ],
   "source": [
    "# Decision Tree\n",
    "run_experiment(\n",
    "    data_info=[2014, 1],\n",
    "    model_name=\"decision_tree\",\n",
    "    params={\"max_depth\": 5},\n",
    "    experiment_name=\"citibike_membership\"\n",
    ")\n"
   ]
  },
  {
   "cell_type": "code",
   "execution_count": 7,
   "id": "06aed908",
   "metadata": {},
   "outputs": [
    {
     "name": "stdout",
     "output_type": "stream",
     "text": [
      "Loading: [PosixPath('/app/data/raw/2014-citibike-tripdata/1_January/201401-citibike-tripdata_1.csv')]\n",
      "[LightGBM] [Info] Number of positive: 234295, number of negative: 5782\n",
      "[LightGBM] [Info] Auto-choosing col-wise multi-threading, the overhead of testing was 0.014506 seconds.\n",
      "You can set `force_col_wise=true` to remove the overhead.\n",
      "[LightGBM] [Info] Total Bins 631\n",
      "[LightGBM] [Info] Number of data points in the train set: 240077, number of used features: 7\n",
      "[LightGBM] [Info] [binary:BoostFromScore]: pavg=0.975916 -> initscore=3.701831\n",
      "[LightGBM] [Info] Start training from score 3.701831\n",
      "[LightGBM] [Warning] No further splits with positive gain, best gain: -inf\n",
      "[LightGBM] [Warning] No further splits with positive gain, best gain: -inf\n"
     ]
    },
    {
     "name": "stderr",
     "output_type": "stream",
     "text": [
      "/usr/local/lib/python3.11/site-packages/mlflow/types/utils.py:452: UserWarning: Hint: Inferred schema contains integer column(s). Integer columns in Python cannot represent missing values. If your input data contains missing values at inference time, it will be encoded as floats and will cause a schema enforcement error. The best way to avoid this problem is to infer the model schema based on a realistic data sample (training dataset) that includes missing values. Alternatively, you can declare integer columns as doubles (float64) whenever these columns may have missing values. See `Handling Integers With Missing Values <https://www.mlflow.org/docs/latest/models.html#handling-integers-with-missing-values>`_ for more details.\n",
      "  warnings.warn(\n",
      "2025/10/22 12:21:14 WARNING mlflow.models.model: `artifact_path` is deprecated. Please use `name` instead.\n",
      "/usr/local/lib/python3.11/site-packages/mlflow/types/utils.py:452: UserWarning: Hint: Inferred schema contains integer column(s). Integer columns in Python cannot represent missing values. If your input data contains missing values at inference time, it will be encoded as floats and will cause a schema enforcement error. The best way to avoid this problem is to infer the model schema based on a realistic data sample (training dataset) that includes missing values. Alternatively, you can declare integer columns as doubles (float64) whenever these columns may have missing values. See `Handling Integers With Missing Values <https://www.mlflow.org/docs/latest/models.html#handling-integers-with-missing-values>`_ for more details.\n",
      "  warnings.warn(\n"
     ]
    },
    {
     "name": "stdout",
     "output_type": "stream",
     "text": [
      "🏃 View run lgbm_20251022_122112 at: http://mlflow:5000/#/experiments/1/runs/89f6bd9003b54f24898ac6e74df146e2\n",
      "🧪 View experiment at: http://mlflow:5000/#/experiments/1\n"
     ]
    },
    {
     "data": {
      "text/plain": [
       "{'train_accuracy': 1.0,\n",
       " 'train_f1_score': 1.0,\n",
       " 'test_accuracy': 0.9999666777740753,\n",
       " 'test_precision': 0.9999658574891598,\n",
       " 'test_recall': 1.0,\n",
       " 'test_f1_score': 0.9999829284531472,\n",
       " 'confusion_matrix': [[1442, 2], [0, 58576]]}"
      ]
     },
     "execution_count": 7,
     "metadata": {},
     "output_type": "execute_result"
    }
   ],
   "source": [
    "# LightGBM\n",
    "run_experiment(\n",
    "    data_info=[2014, 1],\n",
    "    model_name=\"lgbm\",\n",
    "    params={\"n_estimators\": 100, \"learning_rate\": 0.1, \"num_leaves\": 31},\n",
    "    experiment_name=\"citibike_membership\"\n",
    ")"
   ]
  },
  {
   "cell_type": "code",
   "execution_count": 8,
   "id": "99d0f25e",
   "metadata": {},
   "outputs": [
    {
     "name": "stdout",
     "output_type": "stream",
     "text": [
      "Loading: [PosixPath('/app/data/raw/2014-citibike-tripdata/1_January/201401-citibike-tripdata_1.csv')]\n"
     ]
    },
    {
     "name": "stderr",
     "output_type": "stream",
     "text": [
      "/usr/local/lib/python3.11/site-packages/mlflow/types/utils.py:452: UserWarning: Hint: Inferred schema contains integer column(s). Integer columns in Python cannot represent missing values. If your input data contains missing values at inference time, it will be encoded as floats and will cause a schema enforcement error. The best way to avoid this problem is to infer the model schema based on a realistic data sample (training dataset) that includes missing values. Alternatively, you can declare integer columns as doubles (float64) whenever these columns may have missing values. See `Handling Integers With Missing Values <https://www.mlflow.org/docs/latest/models.html#handling-integers-with-missing-values>`_ for more details.\n",
      "  warnings.warn(\n",
      "2025/10/22 12:21:26 WARNING mlflow.models.model: `artifact_path` is deprecated. Please use `name` instead.\n",
      "/usr/local/lib/python3.11/site-packages/mlflow/types/utils.py:452: UserWarning: Hint: Inferred schema contains integer column(s). Integer columns in Python cannot represent missing values. If your input data contains missing values at inference time, it will be encoded as floats and will cause a schema enforcement error. The best way to avoid this problem is to infer the model schema based on a realistic data sample (training dataset) that includes missing values. Alternatively, you can declare integer columns as doubles (float64) whenever these columns may have missing values. See `Handling Integers With Missing Values <https://www.mlflow.org/docs/latest/models.html#handling-integers-with-missing-values>`_ for more details.\n",
      "  warnings.warn(\n",
      "/usr/local/lib/python3.11/site-packages/xgboost/sklearn.py:1115: UserWarning: [12:21:26] WARNING: /workspace/src/c_api/c_api.cc:1570: Saving model in the UBJSON format as default.  You can use a file extension: `json` or `ubj` to choose between formats.\n",
      "  self.get_booster().save_model(fname)\n",
      "/usr/local/lib/python3.11/site-packages/xgboost/sklearn.py:1124: UserWarning: [12:21:29] WARNING: /workspace/src/c_api/c_api.cc:1511: Unknown file format: `xgb`. Using UBJSON (`ubj`) as a guess.\n",
      "  self.get_booster().load_model(fname)\n"
     ]
    },
    {
     "name": "stdout",
     "output_type": "stream",
     "text": [
      "🏃 View run xgboost_20251022_122124 at: http://mlflow:5000/#/experiments/1/runs/a524d0163c8c4f72855e5dcb53ed99e9\n",
      "🧪 View experiment at: http://mlflow:5000/#/experiments/1\n"
     ]
    },
    {
     "data": {
      "text/plain": [
       "{'train_accuracy': 0.9999791733485507,\n",
       " 'train_f1_score': 0.9999893295773445,\n",
       " 'test_accuracy': 0.9999833388870376,\n",
       " 'test_precision': 0.9999829284531472,\n",
       " 'test_recall': 1.0,\n",
       " 'test_f1_score': 0.9999914641537135,\n",
       " 'confusion_matrix': [[1443, 1], [0, 58576]]}"
      ]
     },
     "execution_count": 8,
     "metadata": {},
     "output_type": "execute_result"
    }
   ],
   "source": [
    "# XGBoost\n",
    "run_experiment(\n",
    "    data_info=[2014, 1],\n",
    "    model_name=\"xgboost\",\n",
    "    params={\"n_estimators\": 100, \"learning_rate\": 0.1, \"max_depth\": 5},\n",
    "    experiment_name=\"citibike_membership\"\n",
    ")"
   ]
  },
  {
   "cell_type": "code",
   "execution_count": null,
   "id": "cf00ceef",
   "metadata": {},
   "outputs": [],
   "source": []
  }
 ],
 "metadata": {
  "kernelspec": {
   "display_name": "Python 3",
   "language": "python",
   "name": "python3"
  },
  "language_info": {
   "codemirror_mode": {
    "name": "ipython",
    "version": 3
   },
   "file_extension": ".py",
   "mimetype": "text/x-python",
   "name": "python",
   "nbconvert_exporter": "python",
   "pygments_lexer": "ipython3",
   "version": "3.11.14"
  }
 },
 "nbformat": 4,
 "nbformat_minor": 5
}
